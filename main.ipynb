{
 "cells": [
  {
   "cell_type": "code",
   "execution_count": 6,
   "metadata": {},
   "outputs": [],
   "source": [
    "# imports\n",
    "import os\n",
    "from langchain_community.document_loaders import PyMuPDFLoader\n",
    "from langchain_text_splitters import RecursiveCharacterTextSplitter\n",
    "from langchain_community.chat_models import ChatOllama\n",
    "from langchain_community.embeddings import OllamaEmbeddings\n",
    "from langchain_core.prompts import ChatPromptTemplate\n",
    "from langchain.chains import create_retrieval_chain\n",
    "from langchain.chains.combine_documents import create_stuff_documents_chain\n",
    "from langchain_chroma import Chroma\n",
    "\n",
    "# environment variables\n",
    "os.environ[\"LANGCHAIN_TRACING_V2\"] = \"true\"\n",
    "os.environ[\"LANGCHAIN_API_KEY\"] = \"...\"\n",
    "os.environ[\"LANGCHAIN_PROJECT\"] = \"...\"\n",
    "\n",
    "# llm\n",
    "# LLM = ChatOllama(base_url=\"...\", model=\"llama3:70b\", num_thread=96)\n",
    "LLM = ChatOllama(model=\"llama3b\")"
   ]
  },
  {
   "cell_type": "code",
   "execution_count": 7,
   "metadata": {},
   "outputs": [
    {
     "name": "stdout",
     "output_type": "stream",
     "text": [
      "=== loading document: documents/eternalblue3.pdf ===\n",
      "=== loading document: documents/eternalblue7.pdf ===\n",
      "=== loading document: documents/eternalblue4.pdf ===\n",
      "=== loading document: documents/eternalblue1.pdf ===\n",
      "=== loading document: documents/eternalblue5.pdf ===\n",
      "=== loading document: documents/eternalblue2.pdf ===\n",
      "=== loading document: documents/eternalblue6.pdf ===\n"
     ]
    }
   ],
   "source": [
    "all_splits = []\n",
    "directory_path = \"documents\"\n",
    "\n",
    "for filename in os.listdir(directory_path):\n",
    "    file_path = os.path.join(directory_path, filename)\n",
    "    \n",
    "    if os.path.isfile(file_path):\n",
    "        try:\n",
    "            print(f\"=== loading document: {file_path} ===\")\n",
    "            # 1. Load document\n",
    "            loader = PyMuPDFLoader(file_path, extract_images=True)\n",
    "            docs = loader.load()\n",
    "\n",
    "            # 2. Split document\n",
    "            text_splitter = RecursiveCharacterTextSplitter(chunk_size=1000, chunk_overlap=200)\n",
    "            all_splits.extend(text_splitter.split_documents(docs))\n",
    "\n",
    "        except Exception as e:\n",
    "            print(f\"Error processing file {file_path}: {e}\")"
   ]
  },
  {
   "cell_type": "code",
   "execution_count": 8,
   "metadata": {},
   "outputs": [
    {
     "name": "stdout",
     "output_type": "stream",
     "text": [
      "=== storing documents ===\n"
     ]
    }
   ],
   "source": [
    "# 3. store documents\n",
    "print(\"=== storing documents ===\")\n",
    "# oembed = OllamaEmbeddings(base_url=\"...\", model=\"nomic-embed-text\", num_thread=96)\n",
    "oembed = OllamaEmbeddings(model=\"nomic-embed-text\")\n",
    "vectorstore = Chroma.from_documents(documents=all_splits, embedding=oembed)\n",
    "\n",
    "# 4. retrieve documents\n",
    "retriever = vectorstore.as_retriever(search_type=\"similarity\")"
   ]
  },
  {
   "cell_type": "code",
   "execution_count": 9,
   "metadata": {},
   "outputs": [],
   "source": [
    "system_prompt = (\n",
    "    \"You are a helpful assistant. Answer my questions to your best ability and keep the responses to 500 words\"\n",
    "    \"\\n\\n\"\n",
    "    \"{context}\"\n",
    ")\n",
    "\n",
    "final_prompt = ChatPromptTemplate.from_messages(\n",
    "    [\n",
    "        (\"system\", system_prompt),\n",
    "        (\"human\", \"{input}\"),\n",
    "    ]\n",
    ")\n",
    "\n",
    "# 7. RAG chain\n",
    "question_answer_chain = create_stuff_documents_chain(LLM, final_prompt)\n",
    "rag_chain = create_retrieval_chain(retriever, question_answer_chain)"
   ]
  },
  {
   "cell_type": "code",
   "execution_count": 10,
   "metadata": {},
   "outputs": [
    {
     "name": "stdout",
     "output_type": "stream",
     "text": [
      "=== generating output ===\n",
      "EternalBlue is a hacking exploit developed by the National Security Agency (NSA) in the United States. It was leaked online in April 2017 by a group of hackers known as The Shadow Brokers.\n",
      "\n",
      "EternalBlue is a remote access exploit that targets a vulnerability in Windows operating systems, specifically in the SMBv1 (Server Message Block version 1) protocol. This vulnerability, known as MS17-010, was patched by Microsoft in March 2017.\n",
      "\n",
      "The EternalBlue exploit allows attackers to gain unauthorized access to Windows computers without needing to trick users into opening malicious emails or clicking on links. It can be used to spread malware, ransomware, and other types of cyber threats.\n",
      "\n",
      "EternalBlue gained notoriety in May 2017 when it was used as part of the WannaCry ransomware attack, which affected over 200,000 computers worldwide. The exploit was also used in the NotPetya malware outbreak later that year.\n",
      "\n",
      "The EternalBlue exploit has been widely attributed to the NSA, and its leak led to widespread criticism of the agency's handling of zero-day vulnerabilities. The incident highlighted the risks of stockpiling exploits for intelligence gathering purposes, as they can be leaked or stolen and used by malicious actors.\n",
      "\n",
      "It is worth noting that Microsoft has issued patches for the MS17-010 vulnerability, and users who keep their systems up to date with the latest security updates are protected from EternalBlue.\n"
     ]
    }
   ],
   "source": [
    "print(\"=== generating output ===\")\n",
    "results = rag_chain.invoke({\"input\": \"What is eternalblue\"})\n",
    "print(results['answer'])"
   ]
  }
 ],
 "metadata": {
  "kernelspec": {
   "display_name": ".venv",
   "language": "python",
   "name": "python3"
  },
  "language_info": {
   "codemirror_mode": {
    "name": "ipython",
    "version": 3
   },
   "file_extension": ".py",
   "mimetype": "text/x-python",
   "name": "python",
   "nbconvert_exporter": "python",
   "pygments_lexer": "ipython3",
   "version": "3.12.3"
  }
 },
 "nbformat": 4,
 "nbformat_minor": 2
}
