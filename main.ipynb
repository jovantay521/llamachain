{
 "cells": [
  {
   "cell_type": "code",
   "execution_count": null,
   "metadata": {},
   "outputs": [],
   "source": [
    "# imports\n",
    "import os\n",
    "from langchain_community.document_loaders import PyMuPDFLoader\n",
    "from langchain_text_splitters import RecursiveCharacterTextSplitter\n",
    "from langchain_community.chat_models import ChatOllama\n",
    "from langchain_community.embeddings import OllamaEmbeddings\n",
    "from langchain_core.prompts import ChatPromptTemplate\n",
    "from langchain.chains import create_retrieval_chain\n",
    "from langchain.chains.combine_documents import create_stuff_documents_chain\n",
    "from langchain_chroma import Chroma\n",
    "\n",
    "# environment variables\n",
    "os.environ[\"LANGCHAIN_TRACING_V2\"] = \"true\"\n",
    "# os.environ[\"LANGCHAIN_API_KEY\"] = \"...\"\n",
    "os.environ[\"LANGCHAIN_API_KEY\"] = \"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\"\n",
    "# os.environ[\"LANGCHAIN_PROJECT\"] = \"...\"\n",
    "os.environ[\"LANGCHAIN_PROJECT\"] = \"llamachain\"\n",
    "\n",
    "# llm\n",
    "LLM = ChatOllama(base_url=\"http://192.168.8.3:11434\", model=\"llama3b:70b\", num_thread=96)\n",
    "# LLM = ChatOllama(model=\"llama3b\")"
   ]
  },
  {
   "cell_type": "code",
   "execution_count": null,
   "metadata": {},
   "outputs": [],
   "source": [
    "all_splits = []\n",
    "directory_path = \"documents\"\n",
    "\n",
    "for filename in os.listdir(directory_path):\n",
    "    file_path = os.path.join(directory_path, filename)\n",
    "    \n",
    "    if os.path.isfile(file_path):\n",
    "        try:\n",
    "            print(f\"=== loading document: {file_path} ===\")\n",
    "            # 1. Load document\n",
    "            loader = PyMuPDFLoader(file_path, extract_images=True)\n",
    "            docs = loader.load()\n",
    "\n",
    "            # 2. Split document\n",
    "            text_splitter = RecursiveCharacterTextSplitter(chunk_size=1000, chunk_overlap=200)\n",
    "            all_splits.extend(text_splitter.split_documents(docs))\n",
    "\n",
    "        except Exception as e:\n",
    "            print(f\"Error processing file {file_path}: {e}\")"
   ]
  },
  {
   "cell_type": "code",
   "execution_count": null,
   "metadata": {},
   "outputs": [],
   "source": [
    "# 3. store documents\n",
    "print(\"=== storing documents ===\")\n",
    "oembed = OllamaEmbeddings(base_url=\"http://192.168.8.3:11434\", model=\"nomic-embed-text\", num_thread=96)\n",
    "# oembed = OllamaEmbeddings(model=\"nomic-embed-text\")\n",
    "vectorstore = Chroma.from_documents(documents=all_splits, embedding=oembed)\n",
    "\n",
    "# 4. retrieve documents\n",
    "retriever = vectorstore.as_retriever(search_type=\"similarity\")"
   ]
  },
  {
   "cell_type": "code",
   "execution_count": null,
   "metadata": {},
   "outputs": [],
   "source": [
    "system_prompt = (\n",
    "    \"You are a helpful assistant. Answer my questions to your best ability and keep the responses to 500 words\"\n",
    "    \"\\n\\n\"\n",
    "    \"{context}\"\n",
    ")\n",
    "\n",
    "final_prompt = ChatPromptTemplate.from_messages(\n",
    "    [\n",
    "        (\"system\", system_prompt),\n",
    "        (\"human\", \"{input}\"),\n",
    "    ]\n",
    ")\n",
    "\n",
    "# 7. RAG chain\n",
    "question_answer_chain = create_stuff_documents_chain(LLM, final_prompt)\n",
    "rag_chain = create_retrieval_chain(retriever, question_answer_chain)"
   ]
  },
  {
   "cell_type": "code",
   "execution_count": null,
   "metadata": {},
   "outputs": [],
   "source": [
    "print(\"=== generating output ===\")\n",
    "results = rag_chain.invoke({\"input\": \"What is eternalblue\"})\n",
    "print(results['answer'])"
   ]
  }
 ],
 "metadata": {
  "kernelspec": {
   "display_name": ".venv",
   "language": "python",
   "name": "python3"
  },
  "language_info": {
   "codemirror_mode": {
    "name": "ipython",
    "version": 3
   },
   "file_extension": ".py",
   "mimetype": "text/x-python",
   "name": "python",
   "nbconvert_exporter": "python",
   "pygments_lexer": "ipython3",
   "version": "3.12.3"
  }
 },
 "nbformat": 4,
 "nbformat_minor": 2
}
